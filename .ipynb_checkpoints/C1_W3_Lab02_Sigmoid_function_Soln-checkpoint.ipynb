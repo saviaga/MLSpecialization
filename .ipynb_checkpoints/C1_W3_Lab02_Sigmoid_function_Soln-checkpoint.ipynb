{
 "cells": [
  {
   "cell_type": "markdown",
   "id": "23e8af5d",
   "metadata": {},
   "source": [
    "# Optional Lab: Logistic Regression\n",
    "\n",
    "In this ungraded lab, you will \n",
    "- explore the sigmoid function (also known as the logistic function)\n",
    "- explore logistic regression; which uses the sigmoid function"
   ]
  },
  {
   "cell_type": "code",
   "execution_count": 4,
   "id": "1859d4bb",
   "metadata": {},
   "outputs": [
    {
     "name": "stdout",
     "output_type": "stream",
     "text": [
      "Requirement already satisfied: ipympl in /Users/floressaviaga.c/opt/anaconda3/envs/MLSpecializationAnaconda/lib/python3.9/site-packages (0.9.1)\n",
      "Requirement already satisfied: ipython-genutils in /Users/floressaviaga.c/opt/anaconda3/envs/MLSpecializationAnaconda/lib/python3.9/site-packages (from ipympl) (0.2.0)\n",
      "Requirement already satisfied: ipywidgets<8,>=7.6.0 in /Users/floressaviaga.c/opt/anaconda3/envs/MLSpecializationAnaconda/lib/python3.9/site-packages (from ipympl) (7.7.0)\n",
      "Requirement already satisfied: ipython<9 in /Users/floressaviaga.c/opt/anaconda3/envs/MLSpecializationAnaconda/lib/python3.9/site-packages (from ipympl) (8.3.0)\n",
      "Requirement already satisfied: pillow in /Users/floressaviaga.c/.local/lib/python3.9/site-packages (from ipympl) (9.1.1)\n",
      "Requirement already satisfied: traitlets<6 in /Users/floressaviaga.c/opt/anaconda3/envs/MLSpecializationAnaconda/lib/python3.9/site-packages (from ipympl) (5.1.1)\n",
      "Requirement already satisfied: matplotlib<4,>=3.4.0 in /Users/floressaviaga.c/.local/lib/python3.9/site-packages (from ipympl) (3.5.2)\n",
      "Requirement already satisfied: numpy in /Users/floressaviaga.c/.local/lib/python3.9/site-packages (from ipympl) (1.22.4)\n",
      "Requirement already satisfied: pexpect>4.3 in /Users/floressaviaga.c/opt/anaconda3/envs/MLSpecializationAnaconda/lib/python3.9/site-packages (from ipython<9->ipympl) (4.8.0)\n",
      "Requirement already satisfied: jedi>=0.16 in /Users/floressaviaga.c/opt/anaconda3/envs/MLSpecializationAnaconda/lib/python3.9/site-packages (from ipython<9->ipympl) (0.18.1)\n",
      "Requirement already satisfied: stack-data in /Users/floressaviaga.c/opt/anaconda3/envs/MLSpecializationAnaconda/lib/python3.9/site-packages (from ipython<9->ipympl) (0.2.0)\n",
      "Requirement already satisfied: prompt-toolkit!=3.0.0,!=3.0.1,<3.1.0,>=2.0.0 in /Users/floressaviaga.c/opt/anaconda3/envs/MLSpecializationAnaconda/lib/python3.9/site-packages (from ipython<9->ipympl) (3.0.20)\n",
      "Requirement already satisfied: matplotlib-inline in /Users/floressaviaga.c/opt/anaconda3/envs/MLSpecializationAnaconda/lib/python3.9/site-packages (from ipython<9->ipympl) (0.1.2)\n",
      "Requirement already satisfied: decorator in /Users/floressaviaga.c/opt/anaconda3/envs/MLSpecializationAnaconda/lib/python3.9/site-packages (from ipython<9->ipympl) (5.1.1)\n",
      "Requirement already satisfied: appnope in /Users/floressaviaga.c/opt/anaconda3/envs/MLSpecializationAnaconda/lib/python3.9/site-packages (from ipython<9->ipympl) (0.1.2)\n",
      "Requirement already satisfied: setuptools>=18.5 in /Users/floressaviaga.c/opt/anaconda3/envs/MLSpecializationAnaconda/lib/python3.9/site-packages (from ipython<9->ipympl) (61.2.0)\n",
      "Requirement already satisfied: backcall in /Users/floressaviaga.c/opt/anaconda3/envs/MLSpecializationAnaconda/lib/python3.9/site-packages (from ipython<9->ipympl) (0.2.0)\n",
      "Requirement already satisfied: pygments>=2.4.0 in /Users/floressaviaga.c/opt/anaconda3/envs/MLSpecializationAnaconda/lib/python3.9/site-packages (from ipython<9->ipympl) (2.11.2)\n",
      "Requirement already satisfied: pickleshare in /Users/floressaviaga.c/opt/anaconda3/envs/MLSpecializationAnaconda/lib/python3.9/site-packages (from ipython<9->ipympl) (0.7.5)\n",
      "Requirement already satisfied: ipykernel>=4.5.1 in /Users/floressaviaga.c/opt/anaconda3/envs/MLSpecializationAnaconda/lib/python3.9/site-packages (from ipywidgets<8,>=7.6.0->ipympl) (6.9.1)\n",
      "Requirement already satisfied: widgetsnbextension~=3.6.0 in /Users/floressaviaga.c/opt/anaconda3/envs/MLSpecializationAnaconda/lib/python3.9/site-packages (from ipywidgets<8,>=7.6.0->ipympl) (3.6.0)\n",
      "Requirement already satisfied: nbformat>=4.2.0 in /Users/floressaviaga.c/opt/anaconda3/envs/MLSpecializationAnaconda/lib/python3.9/site-packages (from ipywidgets<8,>=7.6.0->ipympl) (5.3.0)\n",
      "Requirement already satisfied: jupyterlab-widgets>=1.0.0 in /Users/floressaviaga.c/opt/anaconda3/envs/MLSpecializationAnaconda/lib/python3.9/site-packages (from ipywidgets<8,>=7.6.0->ipympl) (1.1.0)\n",
      "Requirement already satisfied: jupyter-client<8.0 in /Users/floressaviaga.c/opt/anaconda3/envs/MLSpecializationAnaconda/lib/python3.9/site-packages (from ipykernel>=4.5.1->ipywidgets<8,>=7.6.0->ipympl) (7.2.2)\n",
      "Requirement already satisfied: tornado<7.0,>=4.2 in /Users/floressaviaga.c/opt/anaconda3/envs/MLSpecializationAnaconda/lib/python3.9/site-packages (from ipykernel>=4.5.1->ipywidgets<8,>=7.6.0->ipympl) (6.1)\n",
      "Requirement already satisfied: debugpy<2.0,>=1.0.0 in /Users/floressaviaga.c/opt/anaconda3/envs/MLSpecializationAnaconda/lib/python3.9/site-packages (from ipykernel>=4.5.1->ipywidgets<8,>=7.6.0->ipympl) (1.5.1)\n",
      "Requirement already satisfied: nest-asyncio in /Users/floressaviaga.c/opt/anaconda3/envs/MLSpecializationAnaconda/lib/python3.9/site-packages (from ipykernel>=4.5.1->ipywidgets<8,>=7.6.0->ipympl) (1.5.5)\n",
      "Requirement already satisfied: parso<0.9.0,>=0.8.0 in /Users/floressaviaga.c/opt/anaconda3/envs/MLSpecializationAnaconda/lib/python3.9/site-packages (from jedi>=0.16->ipython<9->ipympl) (0.8.3)\n",
      "Requirement already satisfied: python-dateutil>=2.8.2 in /Users/floressaviaga.c/opt/anaconda3/envs/MLSpecializationAnaconda/lib/python3.9/site-packages (from jupyter-client<8.0->ipykernel>=4.5.1->ipywidgets<8,>=7.6.0->ipympl) (2.8.2)\n",
      "Requirement already satisfied: pyzmq>=22.3 in /Users/floressaviaga.c/opt/anaconda3/envs/MLSpecializationAnaconda/lib/python3.9/site-packages (from jupyter-client<8.0->ipykernel>=4.5.1->ipywidgets<8,>=7.6.0->ipympl) (22.3.0)\n",
      "Requirement already satisfied: jupyter-core>=4.9.2 in /Users/floressaviaga.c/opt/anaconda3/envs/MLSpecializationAnaconda/lib/python3.9/site-packages (from jupyter-client<8.0->ipykernel>=4.5.1->ipywidgets<8,>=7.6.0->ipympl) (4.10.0)\n",
      "Requirement already satisfied: entrypoints in /Users/floressaviaga.c/opt/anaconda3/envs/MLSpecializationAnaconda/lib/python3.9/site-packages (from jupyter-client<8.0->ipykernel>=4.5.1->ipywidgets<8,>=7.6.0->ipympl) (0.4)\n",
      "Requirement already satisfied: fonttools>=4.22.0 in /Users/floressaviaga.c/.local/lib/python3.9/site-packages (from matplotlib<4,>=3.4.0->ipympl) (4.33.3)\n",
      "Requirement already satisfied: pyparsing>=2.2.1 in /Users/floressaviaga.c/opt/anaconda3/envs/MLSpecializationAnaconda/lib/python3.9/site-packages (from matplotlib<4,>=3.4.0->ipympl) (3.0.4)\n",
      "Requirement already satisfied: packaging>=20.0 in /Users/floressaviaga.c/opt/anaconda3/envs/MLSpecializationAnaconda/lib/python3.9/site-packages (from matplotlib<4,>=3.4.0->ipympl) (21.3)\n",
      "Requirement already satisfied: cycler>=0.10 in /Users/floressaviaga.c/.local/lib/python3.9/site-packages (from matplotlib<4,>=3.4.0->ipympl) (0.11.0)\n",
      "Requirement already satisfied: kiwisolver>=1.0.1 in /Users/floressaviaga.c/.local/lib/python3.9/site-packages (from matplotlib<4,>=3.4.0->ipympl) (1.4.3)\n",
      "Requirement already satisfied: fastjsonschema in /Users/floressaviaga.c/opt/anaconda3/envs/MLSpecializationAnaconda/lib/python3.9/site-packages (from nbformat>=4.2.0->ipywidgets<8,>=7.6.0->ipympl) (2.15.1)\n",
      "Requirement already satisfied: jsonschema>=2.6 in /Users/floressaviaga.c/opt/anaconda3/envs/MLSpecializationAnaconda/lib/python3.9/site-packages (from nbformat>=4.2.0->ipywidgets<8,>=7.6.0->ipympl) (4.4.0)\n",
      "Requirement already satisfied: pyrsistent!=0.17.0,!=0.17.1,!=0.17.2,>=0.14.0 in /Users/floressaviaga.c/opt/anaconda3/envs/MLSpecializationAnaconda/lib/python3.9/site-packages (from jsonschema>=2.6->nbformat>=4.2.0->ipywidgets<8,>=7.6.0->ipympl) (0.18.0)\n",
      "Requirement already satisfied: attrs>=17.4.0 in /Users/floressaviaga.c/opt/anaconda3/envs/MLSpecializationAnaconda/lib/python3.9/site-packages (from jsonschema>=2.6->nbformat>=4.2.0->ipywidgets<8,>=7.6.0->ipympl) (21.4.0)\n",
      "Requirement already satisfied: ptyprocess>=0.5 in /Users/floressaviaga.c/opt/anaconda3/envs/MLSpecializationAnaconda/lib/python3.9/site-packages (from pexpect>4.3->ipython<9->ipympl) (0.7.0)\n",
      "Requirement already satisfied: wcwidth in /Users/floressaviaga.c/opt/anaconda3/envs/MLSpecializationAnaconda/lib/python3.9/site-packages (from prompt-toolkit!=3.0.0,!=3.0.1,<3.1.0,>=2.0.0->ipython<9->ipympl) (0.2.5)\n",
      "Requirement already satisfied: six>=1.5 in /Users/floressaviaga.c/opt/anaconda3/envs/MLSpecializationAnaconda/lib/python3.9/site-packages (from python-dateutil>=2.8.2->jupyter-client<8.0->ipykernel>=4.5.1->ipywidgets<8,>=7.6.0->ipympl) (1.16.0)\n",
      "Requirement already satisfied: notebook>=4.4.1 in /Users/floressaviaga.c/opt/anaconda3/envs/MLSpecializationAnaconda/lib/python3.9/site-packages (from widgetsnbextension~=3.6.0->ipywidgets<8,>=7.6.0->ipympl) (6.4.11)\n"
     ]
    },
    {
     "name": "stdout",
     "output_type": "stream",
     "text": [
      "Requirement already satisfied: argon2-cffi in /Users/floressaviaga.c/opt/anaconda3/envs/MLSpecializationAnaconda/lib/python3.9/site-packages (from notebook>=4.4.1->widgetsnbextension~=3.6.0->ipywidgets<8,>=7.6.0->ipympl) (21.3.0)\n",
      "Requirement already satisfied: Send2Trash>=1.8.0 in /Users/floressaviaga.c/opt/anaconda3/envs/MLSpecializationAnaconda/lib/python3.9/site-packages (from notebook>=4.4.1->widgetsnbextension~=3.6.0->ipywidgets<8,>=7.6.0->ipympl) (1.8.0)\n",
      "Requirement already satisfied: terminado>=0.8.3 in /Users/floressaviaga.c/opt/anaconda3/envs/MLSpecializationAnaconda/lib/python3.9/site-packages (from notebook>=4.4.1->widgetsnbextension~=3.6.0->ipywidgets<8,>=7.6.0->ipympl) (0.13.1)\n",
      "Requirement already satisfied: jinja2 in /Users/floressaviaga.c/opt/anaconda3/envs/MLSpecializationAnaconda/lib/python3.9/site-packages (from notebook>=4.4.1->widgetsnbextension~=3.6.0->ipywidgets<8,>=7.6.0->ipympl) (3.0.3)\n",
      "Requirement already satisfied: prometheus-client in /Users/floressaviaga.c/opt/anaconda3/envs/MLSpecializationAnaconda/lib/python3.9/site-packages (from notebook>=4.4.1->widgetsnbextension~=3.6.0->ipywidgets<8,>=7.6.0->ipympl) (0.13.1)\n",
      "Requirement already satisfied: nbconvert>=5 in /Users/floressaviaga.c/opt/anaconda3/envs/MLSpecializationAnaconda/lib/python3.9/site-packages (from notebook>=4.4.1->widgetsnbextension~=3.6.0->ipywidgets<8,>=7.6.0->ipympl) (6.4.4)\n",
      "Requirement already satisfied: nbclient<0.6.0,>=0.5.0 in /Users/floressaviaga.c/opt/anaconda3/envs/MLSpecializationAnaconda/lib/python3.9/site-packages (from nbconvert>=5->notebook>=4.4.1->widgetsnbextension~=3.6.0->ipywidgets<8,>=7.6.0->ipympl) (0.5.13)\n",
      "Requirement already satisfied: jupyterlab-pygments in /Users/floressaviaga.c/opt/anaconda3/envs/MLSpecializationAnaconda/lib/python3.9/site-packages (from nbconvert>=5->notebook>=4.4.1->widgetsnbextension~=3.6.0->ipywidgets<8,>=7.6.0->ipympl) (0.1.2)\n",
      "Requirement already satisfied: mistune<2,>=0.8.1 in /Users/floressaviaga.c/opt/anaconda3/envs/MLSpecializationAnaconda/lib/python3.9/site-packages (from nbconvert>=5->notebook>=4.4.1->widgetsnbextension~=3.6.0->ipywidgets<8,>=7.6.0->ipympl) (0.8.4)\n",
      "Requirement already satisfied: beautifulsoup4 in /Users/floressaviaga.c/opt/anaconda3/envs/MLSpecializationAnaconda/lib/python3.9/site-packages (from nbconvert>=5->notebook>=4.4.1->widgetsnbextension~=3.6.0->ipywidgets<8,>=7.6.0->ipympl) (4.11.1)\n",
      "Requirement already satisfied: bleach in /Users/floressaviaga.c/opt/anaconda3/envs/MLSpecializationAnaconda/lib/python3.9/site-packages (from nbconvert>=5->notebook>=4.4.1->widgetsnbextension~=3.6.0->ipywidgets<8,>=7.6.0->ipympl) (4.1.0)\n",
      "Requirement already satisfied: testpath in /Users/floressaviaga.c/opt/anaconda3/envs/MLSpecializationAnaconda/lib/python3.9/site-packages (from nbconvert>=5->notebook>=4.4.1->widgetsnbextension~=3.6.0->ipywidgets<8,>=7.6.0->ipympl) (0.5.0)\n",
      "Requirement already satisfied: defusedxml in /Users/floressaviaga.c/opt/anaconda3/envs/MLSpecializationAnaconda/lib/python3.9/site-packages (from nbconvert>=5->notebook>=4.4.1->widgetsnbextension~=3.6.0->ipywidgets<8,>=7.6.0->ipympl) (0.7.1)\n",
      "Requirement already satisfied: pandocfilters>=1.4.1 in /Users/floressaviaga.c/opt/anaconda3/envs/MLSpecializationAnaconda/lib/python3.9/site-packages (from nbconvert>=5->notebook>=4.4.1->widgetsnbextension~=3.6.0->ipywidgets<8,>=7.6.0->ipympl) (1.5.0)\n",
      "Requirement already satisfied: MarkupSafe>=2.0 in /Users/floressaviaga.c/opt/anaconda3/envs/MLSpecializationAnaconda/lib/python3.9/site-packages (from jinja2->notebook>=4.4.1->widgetsnbextension~=3.6.0->ipywidgets<8,>=7.6.0->ipympl) (2.1.1)\n",
      "Requirement already satisfied: argon2-cffi-bindings in /Users/floressaviaga.c/opt/anaconda3/envs/MLSpecializationAnaconda/lib/python3.9/site-packages (from argon2-cffi->notebook>=4.4.1->widgetsnbextension~=3.6.0->ipywidgets<8,>=7.6.0->ipympl) (21.2.0)\n",
      "Requirement already satisfied: cffi>=1.0.1 in /Users/floressaviaga.c/opt/anaconda3/envs/MLSpecializationAnaconda/lib/python3.9/site-packages (from argon2-cffi-bindings->argon2-cffi->notebook>=4.4.1->widgetsnbextension~=3.6.0->ipywidgets<8,>=7.6.0->ipympl) (1.15.0)\n",
      "Requirement already satisfied: pycparser in /Users/floressaviaga.c/opt/anaconda3/envs/MLSpecializationAnaconda/lib/python3.9/site-packages (from cffi>=1.0.1->argon2-cffi-bindings->argon2-cffi->notebook>=4.4.1->widgetsnbextension~=3.6.0->ipywidgets<8,>=7.6.0->ipympl) (2.21)\n",
      "Requirement already satisfied: soupsieve>1.2 in /Users/floressaviaga.c/opt/anaconda3/envs/MLSpecializationAnaconda/lib/python3.9/site-packages (from beautifulsoup4->nbconvert>=5->notebook>=4.4.1->widgetsnbextension~=3.6.0->ipywidgets<8,>=7.6.0->ipympl) (2.3.1)\n",
      "Requirement already satisfied: webencodings in /Users/floressaviaga.c/opt/anaconda3/envs/MLSpecializationAnaconda/lib/python3.9/site-packages (from bleach->nbconvert>=5->notebook>=4.4.1->widgetsnbextension~=3.6.0->ipywidgets<8,>=7.6.0->ipympl) (0.5.1)\n",
      "Requirement already satisfied: pure-eval in /Users/floressaviaga.c/opt/anaconda3/envs/MLSpecializationAnaconda/lib/python3.9/site-packages (from stack-data->ipython<9->ipympl) (0.2.2)\n",
      "Requirement already satisfied: executing in /Users/floressaviaga.c/opt/anaconda3/envs/MLSpecializationAnaconda/lib/python3.9/site-packages (from stack-data->ipython<9->ipympl) (0.8.3)\n",
      "Requirement already satisfied: asttokens in /Users/floressaviaga.c/opt/anaconda3/envs/MLSpecializationAnaconda/lib/python3.9/site-packages (from stack-data->ipython<9->ipympl) (2.0.5)\n"
     ]
    },
    {
     "ename": "ModuleNotFoundError",
     "evalue": "No module named 'ipympl'",
     "output_type": "error",
     "traceback": [
      "\u001b[0;31m---------------------------------------------------------------------------\u001b[0m",
      "\u001b[0;31mModuleNotFoundError\u001b[0m                       Traceback (most recent call last)",
      "Input \u001b[0;32mIn [4]\u001b[0m, in \u001b[0;36m<module>\u001b[0;34m\u001b[0m\n\u001b[1;32m      1\u001b[0m get_ipython()\u001b[38;5;241m.\u001b[39msystem(\u001b[38;5;124m'\u001b[39m\u001b[38;5;124mpip install ipympl\u001b[39m\u001b[38;5;124m'\u001b[39m)\n\u001b[1;32m      2\u001b[0m \u001b[38;5;28;01mimport\u001b[39;00m \u001b[38;5;21;01mnumpy\u001b[39;00m \u001b[38;5;28;01mas\u001b[39;00m \u001b[38;5;21;01mnp\u001b[39;00m\n\u001b[0;32m----> 3\u001b[0m \u001b[43mget_ipython\u001b[49m\u001b[43m(\u001b[49m\u001b[43m)\u001b[49m\u001b[38;5;241;43m.\u001b[39;49m\u001b[43mrun_line_magic\u001b[49m\u001b[43m(\u001b[49m\u001b[38;5;124;43m'\u001b[39;49m\u001b[38;5;124;43mmatplotlib\u001b[39;49m\u001b[38;5;124;43m'\u001b[39;49m\u001b[43m,\u001b[49m\u001b[43m \u001b[49m\u001b[38;5;124;43m'\u001b[39;49m\u001b[38;5;124;43mwidget\u001b[39;49m\u001b[38;5;124;43m'\u001b[39;49m\u001b[43m)\u001b[49m\n\u001b[1;32m      4\u001b[0m \u001b[38;5;28;01mimport\u001b[39;00m \u001b[38;5;21;01mmatplotlib\u001b[39;00m\u001b[38;5;21;01m.\u001b[39;00m\u001b[38;5;21;01mpyplot\u001b[39;00m \u001b[38;5;28;01mas\u001b[39;00m \u001b[38;5;21;01mplt\u001b[39;00m\n\u001b[1;32m      5\u001b[0m \u001b[38;5;28;01mfrom\u001b[39;00m \u001b[38;5;21;01mplt_one_addpt_onclick\u001b[39;00m \u001b[38;5;28;01mimport\u001b[39;00m plt_one_addpt_onclick\n",
      "File \u001b[0;32m~/NLP/lib/python3.10/site-packages/IPython/core/interactiveshell.py:2204\u001b[0m, in \u001b[0;36mInteractiveShell.run_line_magic\u001b[0;34m(self, magic_name, line, _stack_depth)\u001b[0m\n\u001b[1;32m   2202\u001b[0m     kwargs[\u001b[38;5;124m'\u001b[39m\u001b[38;5;124mlocal_ns\u001b[39m\u001b[38;5;124m'\u001b[39m] \u001b[38;5;241m=\u001b[39m \u001b[38;5;28mself\u001b[39m\u001b[38;5;241m.\u001b[39mget_local_scope(stack_depth)\n\u001b[1;32m   2203\u001b[0m \u001b[38;5;28;01mwith\u001b[39;00m \u001b[38;5;28mself\u001b[39m\u001b[38;5;241m.\u001b[39mbuiltin_trap:\n\u001b[0;32m-> 2204\u001b[0m     result \u001b[38;5;241m=\u001b[39m \u001b[43mfn\u001b[49m\u001b[43m(\u001b[49m\u001b[38;5;241;43m*\u001b[39;49m\u001b[43margs\u001b[49m\u001b[43m,\u001b[49m\u001b[43m \u001b[49m\u001b[38;5;241;43m*\u001b[39;49m\u001b[38;5;241;43m*\u001b[39;49m\u001b[43mkwargs\u001b[49m\u001b[43m)\u001b[49m\n\u001b[1;32m   2205\u001b[0m \u001b[38;5;28;01mreturn\u001b[39;00m result\n",
      "File \u001b[0;32m~/NLP/lib/python3.10/site-packages/IPython/core/magics/pylab.py:99\u001b[0m, in \u001b[0;36mPylabMagics.matplotlib\u001b[0;34m(self, line)\u001b[0m\n\u001b[1;32m     97\u001b[0m     \u001b[38;5;28mprint\u001b[39m(\u001b[38;5;124m\"\u001b[39m\u001b[38;5;124mAvailable matplotlib backends: \u001b[39m\u001b[38;5;132;01m%s\u001b[39;00m\u001b[38;5;124m\"\u001b[39m \u001b[38;5;241m%\u001b[39m backends_list)\n\u001b[1;32m     98\u001b[0m \u001b[38;5;28;01melse\u001b[39;00m:\n\u001b[0;32m---> 99\u001b[0m     gui, backend \u001b[38;5;241m=\u001b[39m \u001b[38;5;28;43mself\u001b[39;49m\u001b[38;5;241;43m.\u001b[39;49m\u001b[43mshell\u001b[49m\u001b[38;5;241;43m.\u001b[39;49m\u001b[43menable_matplotlib\u001b[49m\u001b[43m(\u001b[49m\u001b[43margs\u001b[49m\u001b[38;5;241;43m.\u001b[39;49m\u001b[43mgui\u001b[49m\u001b[38;5;241;43m.\u001b[39;49m\u001b[43mlower\u001b[49m\u001b[43m(\u001b[49m\u001b[43m)\u001b[49m\u001b[43m \u001b[49m\u001b[38;5;28;43;01mif\u001b[39;49;00m\u001b[43m \u001b[49m\u001b[38;5;28;43misinstance\u001b[39;49m\u001b[43m(\u001b[49m\u001b[43margs\u001b[49m\u001b[38;5;241;43m.\u001b[39;49m\u001b[43mgui\u001b[49m\u001b[43m,\u001b[49m\u001b[43m \u001b[49m\u001b[38;5;28;43mstr\u001b[39;49m\u001b[43m)\u001b[49m\u001b[43m \u001b[49m\u001b[38;5;28;43;01melse\u001b[39;49;00m\u001b[43m \u001b[49m\u001b[43margs\u001b[49m\u001b[38;5;241;43m.\u001b[39;49m\u001b[43mgui\u001b[49m\u001b[43m)\u001b[49m\n\u001b[1;32m    100\u001b[0m     \u001b[38;5;28mself\u001b[39m\u001b[38;5;241m.\u001b[39m_show_matplotlib_backend(args\u001b[38;5;241m.\u001b[39mgui, backend)\n",
      "File \u001b[0;32m~/NLP/lib/python3.10/site-packages/IPython/core/interactiveshell.py:3340\u001b[0m, in \u001b[0;36mInteractiveShell.enable_matplotlib\u001b[0;34m(self, gui)\u001b[0m\n\u001b[1;32m   3336\u001b[0m         \u001b[38;5;28mprint\u001b[39m(\u001b[38;5;124m'\u001b[39m\u001b[38;5;124mWarning: Cannot change to a different GUI toolkit: \u001b[39m\u001b[38;5;132;01m%s\u001b[39;00m\u001b[38;5;124m.\u001b[39m\u001b[38;5;124m'\u001b[39m\n\u001b[1;32m   3337\u001b[0m                 \u001b[38;5;124m'\u001b[39m\u001b[38;5;124m Using \u001b[39m\u001b[38;5;132;01m%s\u001b[39;00m\u001b[38;5;124m instead.\u001b[39m\u001b[38;5;124m'\u001b[39m \u001b[38;5;241m%\u001b[39m (gui, \u001b[38;5;28mself\u001b[39m\u001b[38;5;241m.\u001b[39mpylab_gui_select))\n\u001b[1;32m   3338\u001b[0m         gui, backend \u001b[38;5;241m=\u001b[39m pt\u001b[38;5;241m.\u001b[39mfind_gui_and_backend(\u001b[38;5;28mself\u001b[39m\u001b[38;5;241m.\u001b[39mpylab_gui_select)\n\u001b[0;32m-> 3340\u001b[0m \u001b[43mpt\u001b[49m\u001b[38;5;241;43m.\u001b[39;49m\u001b[43mactivate_matplotlib\u001b[49m\u001b[43m(\u001b[49m\u001b[43mbackend\u001b[49m\u001b[43m)\u001b[49m\n\u001b[1;32m   3341\u001b[0m configure_inline_support(\u001b[38;5;28mself\u001b[39m, backend)\n\u001b[1;32m   3343\u001b[0m \u001b[38;5;66;03m# Now we must activate the gui pylab wants to use, and fix %run to take\u001b[39;00m\n\u001b[1;32m   3344\u001b[0m \u001b[38;5;66;03m# plot updates into account\u001b[39;00m\n",
      "File \u001b[0;32m~/NLP/lib/python3.10/site-packages/IPython/core/pylabtools.py:359\u001b[0m, in \u001b[0;36mactivate_matplotlib\u001b[0;34m(backend)\u001b[0m\n\u001b[1;32m    354\u001b[0m \u001b[38;5;66;03m# Due to circular imports, pyplot may be only partially initialised\u001b[39;00m\n\u001b[1;32m    355\u001b[0m \u001b[38;5;66;03m# when this function runs.\u001b[39;00m\n\u001b[1;32m    356\u001b[0m \u001b[38;5;66;03m# So avoid needing matplotlib attribute-lookup to access pyplot.\u001b[39;00m\n\u001b[1;32m    357\u001b[0m \u001b[38;5;28;01mfrom\u001b[39;00m \u001b[38;5;21;01mmatplotlib\u001b[39;00m \u001b[38;5;28;01mimport\u001b[39;00m pyplot \u001b[38;5;28;01mas\u001b[39;00m plt\n\u001b[0;32m--> 359\u001b[0m \u001b[43mplt\u001b[49m\u001b[38;5;241;43m.\u001b[39;49m\u001b[43mswitch_backend\u001b[49m\u001b[43m(\u001b[49m\u001b[43mbackend\u001b[49m\u001b[43m)\u001b[49m\n\u001b[1;32m    361\u001b[0m plt\u001b[38;5;241m.\u001b[39mshow\u001b[38;5;241m.\u001b[39m_needmain \u001b[38;5;241m=\u001b[39m \u001b[38;5;28;01mFalse\u001b[39;00m\n\u001b[1;32m    362\u001b[0m \u001b[38;5;66;03m# We need to detect at runtime whether show() is called by the user.\u001b[39;00m\n\u001b[1;32m    363\u001b[0m \u001b[38;5;66;03m# For this, we wrap it into a decorator which adds a 'called' flag.\u001b[39;00m\n",
      "File \u001b[0;32m~/NLP/lib/python3.10/site-packages/matplotlib/pyplot.py:267\u001b[0m, in \u001b[0;36mswitch_backend\u001b[0;34m(newbackend)\u001b[0m\n\u001b[1;32m    260\u001b[0m \u001b[38;5;66;03m# Backends are implemented as modules, but \"inherit\" default method\u001b[39;00m\n\u001b[1;32m    261\u001b[0m \u001b[38;5;66;03m# implementations from backend_bases._Backend.  This is achieved by\u001b[39;00m\n\u001b[1;32m    262\u001b[0m \u001b[38;5;66;03m# creating a \"class\" that inherits from backend_bases._Backend and whose\u001b[39;00m\n\u001b[1;32m    263\u001b[0m \u001b[38;5;66;03m# body is filled with the module's globals.\u001b[39;00m\n\u001b[1;32m    265\u001b[0m backend_name \u001b[38;5;241m=\u001b[39m cbook\u001b[38;5;241m.\u001b[39m_backend_module_name(newbackend)\n\u001b[0;32m--> 267\u001b[0m \u001b[38;5;28;01mclass\u001b[39;00m \u001b[38;5;21;01mbackend_mod\u001b[39;00m(matplotlib\u001b[38;5;241m.\u001b[39mbackend_bases\u001b[38;5;241m.\u001b[39m_Backend):\n\u001b[1;32m    268\u001b[0m     \u001b[38;5;28mlocals\u001b[39m()\u001b[38;5;241m.\u001b[39mupdate(\u001b[38;5;28mvars\u001b[39m(importlib\u001b[38;5;241m.\u001b[39mimport_module(backend_name)))\n\u001b[1;32m    270\u001b[0m required_framework \u001b[38;5;241m=\u001b[39m _get_required_interactive_framework(backend_mod)\n",
      "File \u001b[0;32m~/NLP/lib/python3.10/site-packages/matplotlib/pyplot.py:268\u001b[0m, in \u001b[0;36mswitch_backend.<locals>.backend_mod\u001b[0;34m()\u001b[0m\n\u001b[1;32m    267\u001b[0m \u001b[38;5;28;01mclass\u001b[39;00m \u001b[38;5;21;01mbackend_mod\u001b[39;00m(matplotlib\u001b[38;5;241m.\u001b[39mbackend_bases\u001b[38;5;241m.\u001b[39m_Backend):\n\u001b[0;32m--> 268\u001b[0m     \u001b[38;5;28mlocals\u001b[39m()\u001b[38;5;241m.\u001b[39mupdate(\u001b[38;5;28mvars\u001b[39m(\u001b[43mimportlib\u001b[49m\u001b[38;5;241;43m.\u001b[39;49m\u001b[43mimport_module\u001b[49m\u001b[43m(\u001b[49m\u001b[43mbackend_name\u001b[49m\u001b[43m)\u001b[49m))\n",
      "File \u001b[0;32m/Library/Frameworks/Python.framework/Versions/3.10/lib/python3.10/importlib/__init__.py:126\u001b[0m, in \u001b[0;36mimport_module\u001b[0;34m(name, package)\u001b[0m\n\u001b[1;32m    124\u001b[0m             \u001b[38;5;28;01mbreak\u001b[39;00m\n\u001b[1;32m    125\u001b[0m         level \u001b[38;5;241m+\u001b[39m\u001b[38;5;241m=\u001b[39m \u001b[38;5;241m1\u001b[39m\n\u001b[0;32m--> 126\u001b[0m \u001b[38;5;28;01mreturn\u001b[39;00m \u001b[43m_bootstrap\u001b[49m\u001b[38;5;241;43m.\u001b[39;49m\u001b[43m_gcd_import\u001b[49m\u001b[43m(\u001b[49m\u001b[43mname\u001b[49m\u001b[43m[\u001b[49m\u001b[43mlevel\u001b[49m\u001b[43m:\u001b[49m\u001b[43m]\u001b[49m\u001b[43m,\u001b[49m\u001b[43m \u001b[49m\u001b[43mpackage\u001b[49m\u001b[43m,\u001b[49m\u001b[43m \u001b[49m\u001b[43mlevel\u001b[49m\u001b[43m)\u001b[49m\n",
      "File \u001b[0;32m<frozen importlib._bootstrap>:1050\u001b[0m, in \u001b[0;36m_gcd_import\u001b[0;34m(name, package, level)\u001b[0m\n",
      "File \u001b[0;32m<frozen importlib._bootstrap>:1027\u001b[0m, in \u001b[0;36m_find_and_load\u001b[0;34m(name, import_)\u001b[0m\n",
      "File \u001b[0;32m<frozen importlib._bootstrap>:992\u001b[0m, in \u001b[0;36m_find_and_load_unlocked\u001b[0;34m(name, import_)\u001b[0m\n",
      "File \u001b[0;32m<frozen importlib._bootstrap>:241\u001b[0m, in \u001b[0;36m_call_with_frames_removed\u001b[0;34m(f, *args, **kwds)\u001b[0m\n",
      "File \u001b[0;32m<frozen importlib._bootstrap>:1050\u001b[0m, in \u001b[0;36m_gcd_import\u001b[0;34m(name, package, level)\u001b[0m\n",
      "File \u001b[0;32m<frozen importlib._bootstrap>:1027\u001b[0m, in \u001b[0;36m_find_and_load\u001b[0;34m(name, import_)\u001b[0m\n",
      "File \u001b[0;32m<frozen importlib._bootstrap>:1004\u001b[0m, in \u001b[0;36m_find_and_load_unlocked\u001b[0;34m(name, import_)\u001b[0m\n",
      "\u001b[0;31mModuleNotFoundError\u001b[0m: No module named 'ipympl'"
     ]
    }
   ],
   "source": [
    "!pip install ipympl\n",
    "import numpy as np\n",
    "%matplotlib widget\n",
    "import matplotlib.pyplot as plt\n",
    "from plt_one_addpt_onclick import plt_one_addpt_onclick\n",
    "from lab_utils_common import draw_vthresh\n",
    "plt.style.use('./deeplearning.mplstyle')"
   ]
  },
  {
   "cell_type": "markdown",
   "id": "0213735c",
   "metadata": {},
   "source": [
    "## Sigmoid or Logistic Function\n",
    "<img align=\"left\" src=\"./images/C1_W3_LogisticRegression_left.png\"     style=\" width:300px; padding: 10px; \" >As discussed in the lecture videos, for a classification task, we can start by using our linear regression model, $f_{\\mathbf{w},b}(\\mathbf{x}^{(i)}) = \\mathbf{w} \\cdot  \\mathbf{x}^{(i)} + b$, to predict $y$ given $x$. \n",
    "- However, we would like the predictions of our classification model to be between 0 and 1 since our output variable $y$ is either 0 or 1. \n",
    "- This can be accomplished by using a \"sigmoid function\" which maps all input values to values between 0 and 1. \n",
    "\n",
    "\n",
    "Let's implement the sigmoid function and see this for ourselves.\n",
    "\n",
    "## Formula for Sigmoid function\n",
    "\n",
    "The formula for a sigmoid function is as follows -  \n",
    "\n",
    "$g(z) = \\frac{1}{1+e^{-z}}\\tag{1}$\n",
    "\n",
    "In the case of logistic regression, z (the input to the sigmoid function), is the output of a linear regression model. \n",
    "- In the case of a single example, $z$ is scalar.\n",
    "- in the case of multiple examples, $z$ may be a vector consisting of $m$ values, one for each example. \n",
    "- The implementation of the sigmoid function should cover both of these potential input formats.\n",
    "Let's implement this in Python."
   ]
  },
  {
   "cell_type": "markdown",
   "id": "af8a7d3d",
   "metadata": {},
   "source": [
    "NumPy has a function called [`exp()`](https://numpy.org/doc/stable/reference/generated/numpy.exp.html), which offers a convenient way to calculate the exponential ( $e^{z}$) of all elements in the input array (`z`).\n",
    " \n",
    "It also works with a single number as an input, as shown below."
   ]
  },
  {
   "cell_type": "code",
   "execution_count": null,
   "id": "23b74416",
   "metadata": {},
   "outputs": [],
   "source": [
    "# Input is an array. \n",
    "input_array = np.array([1,2,3])\n",
    "exp_array = np.exp(input_array)\n",
    "\n",
    "print(\"Input to exp:\", input_array)\n",
    "print(\"Output of exp:\", exp_array)\n",
    "\n",
    "# Input is a single number\n",
    "input_val = 1  \n",
    "exp_val = np.exp(input_val)\n",
    "\n",
    "print(\"Input to exp:\", input_val)\n",
    "print(\"Output of exp:\", exp_val)"
   ]
  },
  {
   "cell_type": "markdown",
   "id": "ed25c90d",
   "metadata": {},
   "source": [
    "The `sigmoid` function is implemented in python as shown in the cell below."
   ]
  },
  {
   "cell_type": "code",
   "execution_count": null,
   "id": "d686c1a4",
   "metadata": {},
   "outputs": [],
   "source": [
    "def sigmoid(z):\n",
    "    \"\"\"\n",
    "    Compute the sigmoid of z\n",
    "\n",
    "    Args:\n",
    "        z (ndarray): A scalar, numpy array of any size.\n",
    "\n",
    "    Returns:\n",
    "        g (ndarray): sigmoid(z), with the same shape as z\n",
    "         \n",
    "    \"\"\"\n",
    "\n",
    "    g = 1/(1+np.exp(-z))\n",
    "   \n",
    "    return g"
   ]
  },
  {
   "cell_type": "markdown",
   "id": "efd45479",
   "metadata": {},
   "source": [
    "Let's see what the output of this function is for various value of `z`"
   ]
  },
  {
   "cell_type": "code",
   "execution_count": null,
   "id": "5bc5fcf9",
   "metadata": {},
   "outputs": [],
   "source": [
    "# Generate an array of evenly spaced values between -10 and 10\n",
    "z_tmp = np.arange(-10,11)\n",
    "\n",
    "# Use the function implemented above to get the sigmoid values\n",
    "y = sigmoid(z_tmp)\n",
    "\n",
    "# Code for pretty printing the two arrays next to each other\n",
    "np.set_printoptions(precision=3) \n",
    "print(\"Input (z), Output (sigmoid(z))\")\n",
    "print(np.c_[z_tmp, y])"
   ]
  },
  {
   "cell_type": "markdown",
   "id": "c3c01c96",
   "metadata": {},
   "source": [
    "The values in the left column are `z`, and the values in the right column are `sigmoid(z)`. As you can see, the input values to the sigmoid range from -10 to 10, and the output values range from 0 to 1. \n",
    "\n",
    "Now, let's try to plot this function using the `matplotlib` library."
   ]
  },
  {
   "cell_type": "code",
   "execution_count": null,
   "id": "f3bb69af",
   "metadata": {},
   "outputs": [],
   "source": [
    "# Plot z vs sigmoid(z)\n",
    "fig,ax = plt.subplots(1,1,figsize=(5,3))\n",
    "ax.plot(z_tmp, y, c=\"b\")\n",
    "\n",
    "ax.set_title(\"Sigmoid function\")\n",
    "ax.set_ylabel('sigmoid(z)')\n",
    "ax.set_xlabel('z')\n",
    "draw_vthresh(ax,0)"
   ]
  },
  {
   "cell_type": "markdown",
   "id": "9cedb6b4",
   "metadata": {},
   "source": [
    "As you can see, the sigmoid function approaches  `0` as `z` goes to large negative values and approaches `1` as `z` goes to large positive values.\n"
   ]
  },
  {
   "cell_type": "markdown",
   "id": "ea00fb3a",
   "metadata": {},
   "source": [
    "## Logistic Regression\n",
    "<img align=\"left\" src=\"./images/C1_W3_LogisticRegression_right.png\"     style=\" width:300px; padding: 10px; \" > A logistic regression model applies the sigmoid to the familiar linear regression model as shown below:\n",
    "\n",
    "$$ f_{\\mathbf{w},b}(\\mathbf{x}^{(i)}) = g(\\mathbf{w} \\cdot \\mathbf{x}^{(i)} + b ) \\tag{2} $$ \n",
    "\n",
    "  where\n",
    "\n",
    "  $g(z) = \\frac{1}{1+e^{-z}}\\tag{3}$\n"
   ]
  },
  {
   "cell_type": "markdown",
   "id": "e0fed758",
   "metadata": {},
   "source": [
    "  \n",
    "Let's apply logistic regression to the categorical data example of tumor classification.  \n",
    "First, load the examples and initial values for the parameters.\n",
    "  \n"
   ]
  },
  {
   "cell_type": "code",
   "execution_count": null,
   "id": "df44c7a1",
   "metadata": {
    "tags": []
   },
   "outputs": [],
   "source": [
    "x_train = np.array([0., 1, 2, 3, 4, 5])\n",
    "y_train = np.array([0,  0, 0, 1, 1, 1])\n",
    "\n",
    "w_in = np.zeros((1))\n",
    "b_in = 0"
   ]
  },
  {
   "cell_type": "markdown",
   "id": "3734c714",
   "metadata": {},
   "source": [
    "Try the following steps:\n",
    "- Click on 'Run Logistic Regression' to find the best logistic regression model for the given training data\n",
    "    - Note the resulting model fits the data quite well.\n",
    "    - Note, the orange line is '$z$' or $\\mathbf{w} \\cdot \\mathbf{x}^{(i)} + b$  above. It does not match the line in a linear regression model.\n",
    "Further improve these results by applying a *threshold*. \n",
    "- Tick the box on the 'Toggle 0.5 threshold' to show the predictions if a threshold is applied.\n",
    "    - These predictions look good. The predictions match the data\n",
    "    - Now, add further data points in the large tumor size range (near 10), and re-run logistic regression.\n",
    "    - unlike the linear regression model, this model continues to make correct predictions"
   ]
  },
  {
   "cell_type": "code",
   "execution_count": null,
   "id": "66c416ad",
   "metadata": {},
   "outputs": [],
   "source": [
    "plt.close('all') \n",
    "addpt = plt_one_addpt_onclick( x_train,y_train, w_in, b_in, logistic=True)"
   ]
  },
  {
   "cell_type": "markdown",
   "id": "4402e353",
   "metadata": {},
   "source": [
    "## Congratulations!\n",
    "You have explored the use of the sigmoid function in logistic regression."
   ]
  },
  {
   "cell_type": "code",
   "execution_count": null,
   "id": "e36cc0aa",
   "metadata": {},
   "outputs": [],
   "source": []
  }
 ],
 "metadata": {
  "kernelspec": {
   "display_name": "MLSpecialization",
   "language": "python",
   "name": "mlspecialization"
  },
  "language_info": {
   "codemirror_mode": {
    "name": "ipython",
    "version": 3
   },
   "file_extension": ".py",
   "mimetype": "text/x-python",
   "name": "python",
   "nbconvert_exporter": "python",
   "pygments_lexer": "ipython3",
   "version": "3.10.0"
  }
 },
 "nbformat": 4,
 "nbformat_minor": 5
}
